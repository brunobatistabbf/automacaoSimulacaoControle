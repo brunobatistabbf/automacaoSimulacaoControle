{
 "cells": [
  {
   "cell_type": "code",
   "execution_count": 1,
   "id": "fc8f113e",
   "metadata": {},
   "outputs": [],
   "source": [
    "from selenium.webdriver.common.by import By\n",
    "from selenium.webdriver.support.ui import WebDriverWait\n",
    "from selenium.webdriver.support import expected_conditions as EC\n",
    "from selenium.webdriver import ActionChains\n",
    "from selenium.webdriver.common.action_chains import ActionChains\n",
    "from selenium.webdriver.common.keys import Keys\n",
    "from selenium import webdriver \n",
    "import time\n",
    "import os \n",
    "import tkinter\n",
    "import tkinter.messagebox"
   ]
  },
  {
   "cell_type": "code",
   "execution_count": 14,
   "id": "7cae2f0d",
   "metadata": {},
   "outputs": [],
   "source": [
    "class Principal(webdriver.Chrome):\n",
    "\n",
    "    def __init__(self, driver_path=r\"chromedriver.exe\"):\n",
    "        self.driver_path = driver_path\n",
    "        os.environ['PATH'] += self.driver_path\n",
    "        super(Principal, self).__init__()\n",
    "        self.implicitly_wait(15)\n",
    "        self.maximize_window()\n",
    "        \n",
    "    def __exit__(self, exc_type, exc_value, trace):\n",
    "        print(\"Saindo.\")\n",
    "        self.implicitly_wait(5)\n",
    "        \n",
    "    def login(self):\n",
    "        self.get(\"https://sipseiteste.fiocruz.br/login.php?sigla_orgao_sistema=FIOCRUZ&sigla_sistema=SEI\")\n",
    "        usuario = self.find_element(By.ID, \"txtUsuario\")\n",
    "        usuario.send_keys(\"teste\")\n",
    "        senha = self.find_element(By.ID, \"pwdSenha\")\n",
    "        senha.send_keys(\"teste\")\n",
    "        botao = self.find_element(By.NAME, \"sbmLogin\")\n",
    "        botao.click()\n",
    "        \n",
    "    def pesquisa_sei(self):\n",
    "        inputy = self.find_element(By.CSS_SELECTOR, 'input[id=\"txtPesquisaRapida\"]')\n",
    "        inputy.send_keys(\"92.000114/2020-20\")\n",
    "        inputy.submit()\n",
    "    \n",
    "    def documento(self):\n",
    "        incluirDocumento = self.find_element(By.XPATH, \"botaoSEI\").click()\n",
    "    "
   ]
  },
  {
   "cell_type": "code",
   "execution_count": 15,
   "id": "a06c52b2",
   "metadata": {},
   "outputs": [
    {
     "ename": "NoSuchElementException",
     "evalue": "Message: no such element: Unable to locate element: {\"method\":\"xpath\",\"selector\":\"//*[@id=\"divArvoreAcoes\"]/a[1]/img\"}\n  (Session info: chrome=105.0.5195.127)\nStacktrace:\nBacktrace:\n\tOrdinal0 [0x00BFDF13+2219795]\n\tOrdinal0 [0x00B92841+1779777]\n\tOrdinal0 [0x00AA423D+803389]\n\tOrdinal0 [0x00AD3025+995365]\n\tOrdinal0 [0x00AD31EB+995819]\n\tOrdinal0 [0x00B00F52+1183570]\n\tOrdinal0 [0x00AEE844+1108036]\n\tOrdinal0 [0x00AFF192+1175954]\n\tOrdinal0 [0x00AEE616+1107478]\n\tOrdinal0 [0x00AC7F89+950153]\n\tOrdinal0 [0x00AC8F56+954198]\n\tGetHandleVerifier [0x00EF2CB2+3040210]\n\tGetHandleVerifier [0x00EE2BB4+2974420]\n\tGetHandleVerifier [0x00C96A0A+565546]\n\tGetHandleVerifier [0x00C95680+560544]\n\tOrdinal0 [0x00B99A5C+1808988]\n\tOrdinal0 [0x00B9E3A8+1827752]\n\tOrdinal0 [0x00B9E495+1827989]\n\tOrdinal0 [0x00BA80A4+1867940]\n\tBaseThreadInitThunk [0x76526739+25]\n\tRtlGetFullPathName_UEx [0x775B8FD2+1218]\n\tRtlGetFullPathName_UEx [0x775B8F9D+1165]\n",
     "output_type": "error",
     "traceback": [
      "\u001b[1;31m---------------------------------------------------------------------------\u001b[0m",
      "\u001b[1;31mNoSuchElementException\u001b[0m                    Traceback (most recent call last)",
      "\u001b[1;32m~\\AppData\\Local\\Temp/ipykernel_9068/871049737.py\u001b[0m in \u001b[0;36m<module>\u001b[1;34m\u001b[0m\n\u001b[0;32m      2\u001b[0m \u001b[0mbot\u001b[0m\u001b[1;33m.\u001b[0m\u001b[0mlogin\u001b[0m\u001b[1;33m(\u001b[0m\u001b[1;33m)\u001b[0m\u001b[1;33m\u001b[0m\u001b[1;33m\u001b[0m\u001b[0m\n\u001b[0;32m      3\u001b[0m \u001b[0mbot\u001b[0m\u001b[1;33m.\u001b[0m\u001b[0mpesquisa_sei\u001b[0m\u001b[1;33m(\u001b[0m\u001b[1;33m)\u001b[0m\u001b[1;33m\u001b[0m\u001b[1;33m\u001b[0m\u001b[0m\n\u001b[1;32m----> 4\u001b[1;33m \u001b[0mbot\u001b[0m\u001b[1;33m.\u001b[0m\u001b[0mdocumento\u001b[0m\u001b[1;33m(\u001b[0m\u001b[1;33m)\u001b[0m\u001b[1;33m\u001b[0m\u001b[1;33m\u001b[0m\u001b[0m\n\u001b[0m",
      "\u001b[1;32m~\\AppData\\Local\\Temp/ipykernel_9068/2574883149.py\u001b[0m in \u001b[0;36mdocumento\u001b[1;34m(self)\u001b[0m\n\u001b[0;32m     27\u001b[0m \u001b[1;33m\u001b[0m\u001b[0m\n\u001b[0;32m     28\u001b[0m     \u001b[1;32mdef\u001b[0m \u001b[0mdocumento\u001b[0m\u001b[1;33m(\u001b[0m\u001b[0mself\u001b[0m\u001b[1;33m)\u001b[0m\u001b[1;33m:\u001b[0m\u001b[1;33m\u001b[0m\u001b[1;33m\u001b[0m\u001b[0m\n\u001b[1;32m---> 29\u001b[1;33m         \u001b[0mincluirDocumento\u001b[0m \u001b[1;33m=\u001b[0m \u001b[0mself\u001b[0m\u001b[1;33m.\u001b[0m\u001b[0mfind_element\u001b[0m\u001b[1;33m(\u001b[0m\u001b[0mBy\u001b[0m\u001b[1;33m.\u001b[0m\u001b[0mXPATH\u001b[0m\u001b[1;33m,\u001b[0m \u001b[1;34m'//*[@id=\"divArvoreAcoes\"]/a[1]/img'\u001b[0m\u001b[1;33m)\u001b[0m\u001b[1;33m\u001b[0m\u001b[1;33m\u001b[0m\u001b[0m\n\u001b[0m\u001b[0;32m     30\u001b[0m         \u001b[0mincluirDocumento\u001b[0m\u001b[1;33m.\u001b[0m\u001b[0mclick\u001b[0m\u001b[1;33m(\u001b[0m\u001b[1;33m)\u001b[0m\u001b[1;33m\u001b[0m\u001b[1;33m\u001b[0m\u001b[0m\n\u001b[0;32m     31\u001b[0m \u001b[1;33m\u001b[0m\u001b[0m\n",
      "\u001b[1;32m~\\anaconda3\\lib\\site-packages\\selenium\\webdriver\\remote\\webdriver.py\u001b[0m in \u001b[0;36mfind_element\u001b[1;34m(self, by, value)\u001b[0m\n\u001b[0;32m    854\u001b[0m             \u001b[0mvalue\u001b[0m \u001b[1;33m=\u001b[0m \u001b[1;34m'[name=\"%s\"]'\u001b[0m \u001b[1;33m%\u001b[0m \u001b[0mvalue\u001b[0m\u001b[1;33m\u001b[0m\u001b[1;33m\u001b[0m\u001b[0m\n\u001b[0;32m    855\u001b[0m \u001b[1;33m\u001b[0m\u001b[0m\n\u001b[1;32m--> 856\u001b[1;33m         return self.execute(Command.FIND_ELEMENT, {\n\u001b[0m\u001b[0;32m    857\u001b[0m             \u001b[1;34m'using'\u001b[0m\u001b[1;33m:\u001b[0m \u001b[0mby\u001b[0m\u001b[1;33m,\u001b[0m\u001b[1;33m\u001b[0m\u001b[1;33m\u001b[0m\u001b[0m\n\u001b[0;32m    858\u001b[0m             'value': value})['value']\n",
      "\u001b[1;32m~\\anaconda3\\lib\\site-packages\\selenium\\webdriver\\remote\\webdriver.py\u001b[0m in \u001b[0;36mexecute\u001b[1;34m(self, driver_command, params)\u001b[0m\n\u001b[0;32m    432\u001b[0m         \u001b[0mresponse\u001b[0m \u001b[1;33m=\u001b[0m \u001b[0mself\u001b[0m\u001b[1;33m.\u001b[0m\u001b[0mcommand_executor\u001b[0m\u001b[1;33m.\u001b[0m\u001b[0mexecute\u001b[0m\u001b[1;33m(\u001b[0m\u001b[0mdriver_command\u001b[0m\u001b[1;33m,\u001b[0m \u001b[0mparams\u001b[0m\u001b[1;33m)\u001b[0m\u001b[1;33m\u001b[0m\u001b[1;33m\u001b[0m\u001b[0m\n\u001b[0;32m    433\u001b[0m         \u001b[1;32mif\u001b[0m \u001b[0mresponse\u001b[0m\u001b[1;33m:\u001b[0m\u001b[1;33m\u001b[0m\u001b[1;33m\u001b[0m\u001b[0m\n\u001b[1;32m--> 434\u001b[1;33m             \u001b[0mself\u001b[0m\u001b[1;33m.\u001b[0m\u001b[0merror_handler\u001b[0m\u001b[1;33m.\u001b[0m\u001b[0mcheck_response\u001b[0m\u001b[1;33m(\u001b[0m\u001b[0mresponse\u001b[0m\u001b[1;33m)\u001b[0m\u001b[1;33m\u001b[0m\u001b[1;33m\u001b[0m\u001b[0m\n\u001b[0m\u001b[0;32m    435\u001b[0m             response['value'] = self._unwrap_value(\n\u001b[0;32m    436\u001b[0m                 response.get('value', None))\n",
      "\u001b[1;32m~\\anaconda3\\lib\\site-packages\\selenium\\webdriver\\remote\\errorhandler.py\u001b[0m in \u001b[0;36mcheck_response\u001b[1;34m(self, response)\u001b[0m\n\u001b[0;32m    241\u001b[0m                 \u001b[0malert_text\u001b[0m \u001b[1;33m=\u001b[0m \u001b[0mvalue\u001b[0m\u001b[1;33m[\u001b[0m\u001b[1;34m'alert'\u001b[0m\u001b[1;33m]\u001b[0m\u001b[1;33m.\u001b[0m\u001b[0mget\u001b[0m\u001b[1;33m(\u001b[0m\u001b[1;34m'text'\u001b[0m\u001b[1;33m)\u001b[0m\u001b[1;33m\u001b[0m\u001b[1;33m\u001b[0m\u001b[0m\n\u001b[0;32m    242\u001b[0m             \u001b[1;32mraise\u001b[0m \u001b[0mexception_class\u001b[0m\u001b[1;33m(\u001b[0m\u001b[0mmessage\u001b[0m\u001b[1;33m,\u001b[0m \u001b[0mscreen\u001b[0m\u001b[1;33m,\u001b[0m \u001b[0mstacktrace\u001b[0m\u001b[1;33m,\u001b[0m \u001b[0malert_text\u001b[0m\u001b[1;33m)\u001b[0m  \u001b[1;31m# type: ignore[call-arg]  # mypy is not smart enough here\u001b[0m\u001b[1;33m\u001b[0m\u001b[1;33m\u001b[0m\u001b[0m\n\u001b[1;32m--> 243\u001b[1;33m         \u001b[1;32mraise\u001b[0m \u001b[0mexception_class\u001b[0m\u001b[1;33m(\u001b[0m\u001b[0mmessage\u001b[0m\u001b[1;33m,\u001b[0m \u001b[0mscreen\u001b[0m\u001b[1;33m,\u001b[0m \u001b[0mstacktrace\u001b[0m\u001b[1;33m)\u001b[0m\u001b[1;33m\u001b[0m\u001b[1;33m\u001b[0m\u001b[0m\n\u001b[0m",
      "\u001b[1;31mNoSuchElementException\u001b[0m: Message: no such element: Unable to locate element: {\"method\":\"xpath\",\"selector\":\"//*[@id=\"divArvoreAcoes\"]/a[1]/img\"}\n  (Session info: chrome=105.0.5195.127)\nStacktrace:\nBacktrace:\n\tOrdinal0 [0x00BFDF13+2219795]\n\tOrdinal0 [0x00B92841+1779777]\n\tOrdinal0 [0x00AA423D+803389]\n\tOrdinal0 [0x00AD3025+995365]\n\tOrdinal0 [0x00AD31EB+995819]\n\tOrdinal0 [0x00B00F52+1183570]\n\tOrdinal0 [0x00AEE844+1108036]\n\tOrdinal0 [0x00AFF192+1175954]\n\tOrdinal0 [0x00AEE616+1107478]\n\tOrdinal0 [0x00AC7F89+950153]\n\tOrdinal0 [0x00AC8F56+954198]\n\tGetHandleVerifier [0x00EF2CB2+3040210]\n\tGetHandleVerifier [0x00EE2BB4+2974420]\n\tGetHandleVerifier [0x00C96A0A+565546]\n\tGetHandleVerifier [0x00C95680+560544]\n\tOrdinal0 [0x00B99A5C+1808988]\n\tOrdinal0 [0x00B9E3A8+1827752]\n\tOrdinal0 [0x00B9E495+1827989]\n\tOrdinal0 [0x00BA80A4+1867940]\n\tBaseThreadInitThunk [0x76526739+25]\n\tRtlGetFullPathName_UEx [0x775B8FD2+1218]\n\tRtlGetFullPathName_UEx [0x775B8F9D+1165]\n"
     ]
    }
   ],
   "source": [
    "bot = Principal()\n",
    "bot.login()\n",
    "bot.pesquisa_sei()\n",
    "bot.documento()"
   ]
  },
  {
   "cell_type": "code",
   "execution_count": null,
   "id": "8803f110",
   "metadata": {},
   "outputs": [],
   "source": []
  }
 ],
 "metadata": {
  "kernelspec": {
   "display_name": "Python 3 (ipykernel)",
   "language": "python",
   "name": "python3"
  },
  "language_info": {
   "codemirror_mode": {
    "name": "ipython",
    "version": 3
   },
   "file_extension": ".py",
   "mimetype": "text/x-python",
   "name": "python",
   "nbconvert_exporter": "python",
   "pygments_lexer": "ipython3",
   "version": "3.9.7"
  },
  "vscode": {
   "interpreter": {
    "hash": "46f2c9b0517c9100e135d608db60a909e217e6dfd5e49badcbff311080083465"
   }
  }
 },
 "nbformat": 4,
 "nbformat_minor": 5
}

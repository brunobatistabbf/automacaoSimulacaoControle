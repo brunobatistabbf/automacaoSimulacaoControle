{
 "cells": [
  {
   "cell_type": "code",
   "execution_count": 19,
   "id": "c0691836",
   "metadata": {},
   "outputs": [],
   "source": [
    "from selenium.webdriver.common.by import By\n",
    "from selenium.webdriver.support.ui import WebDriverWait\n",
    "from selenium.webdriver.support import expected_conditions as EC\n",
    "from selenium.webdriver import ActionChains\n",
    "from selenium.webdriver.common.action_chains import ActionChains\n",
    "from selenium.webdriver.common.keys import Keys\n",
    "from selenium import webdriver \n",
    "import time\n",
    "import os \n",
    "import tkinter\n",
    "import tkinter.messagebox"
   ]
  },
  {
   "cell_type": "code",
   "execution_count": 20,
   "id": "66d0ff4c",
   "metadata": {},
   "outputs": [],
   "source": [
    "class Principal(webdriver.Chrome):\n",
    "\n",
    "    def __init__(self, driver_path=r\"chromedriver.exe\"):\n",
    "        self.driver_path = driver_path\n",
    "        os.environ['PATH'] += self.driver_path\n",
    "        super(Principal, self).__init__()\n",
    "        self.implicitly_wait(15)\n",
    "        self.maximize_window()\n",
    "        \n",
    "    def __exit__(self, exc_type, exc_value, trace):\n",
    "        print(\"Saindo.\")\n",
    "        self.implicitly_wait(5)\n",
    "        \n",
    "    def login(self):\n",
    "        self.get(\"https://sipseiteste.fiocruz.br/login.php?sigla_orgao_sistema=FIOCRUZ&sigla_sistema=SEI\")\n",
    "        usuario = self.find_element(By.ID, \"txtUsuario\")\n",
    "        usuario.send_keys(\"teste\")\n",
    "        senha = self.find_element(By.ID, \"pwdSenha\")\n",
    "        senha.send_keys(\"teste\")\n",
    "        self.implicitly_wait(2)\n",
    "        botao = self.find_element(By.NAME, \"sbmLogin\")\n",
    "        botao.click()\n",
    "        self.implicitly_wait(5)\n",
    "        \n",
    "    def sei_teste_pesquisa(self):\n",
    "        pesquisa = self.find_element(By.ID, \"txtPesquisaRapida\")\n",
    "        pesquisa.send_keys(\"92.000114/2020-20\")\n",
    "        pesquisa.send_keys(Keys.RETURN)"
   ]
  },
  {
   "cell_type": "code",
   "execution_count": 21,
   "id": "513a7b50",
   "metadata": {},
   "outputs": [],
   "source": [
    "bot = Principal()\n",
    "bot.login()"
   ]
  },
  {
   "cell_type": "code",
   "execution_count": null,
   "id": "300dccfb",
   "metadata": {},
   "outputs": [],
   "source": []
  }
 ],
 "metadata": {
  "kernelspec": {
   "display_name": "Python 3 (ipykernel)",
   "language": "python",
   "name": "python3"
  },
  "language_info": {
   "codemirror_mode": {
    "name": "ipython",
    "version": 3
   },
   "file_extension": ".py",
   "mimetype": "text/x-python",
   "name": "python",
   "nbconvert_exporter": "python",
   "pygments_lexer": "ipython3",
   "version": "3.9.7"
  }
 },
 "nbformat": 4,
 "nbformat_minor": 5
}

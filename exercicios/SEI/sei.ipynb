{
 "cells": [
  {
   "cell_type": "code",
   "execution_count": 4,
   "id": "fc8f113e",
   "metadata": {},
   "outputs": [],
   "source": [
    "from selenium.webdriver.common.by import By\n",
    "from selenium.webdriver.support.ui import WebDriverWait\n",
    "from selenium.webdriver.support import expected_conditions as EC\n",
    "from selenium.webdriver import ActionChains\n",
    "from selenium.webdriver.common.action_chains import ActionChains\n",
    "from selenium.webdriver.common.keys import Keys\n",
    "from selenium import webdriver \n",
    "import time\n",
    "import os \n",
    "import tkinter\n",
    "import tkinter.messagebox"
   ]
  },
  {
   "cell_type": "code",
   "execution_count": 5,
   "id": "7cae2f0d",
   "metadata": {},
   "outputs": [],
   "source": [
    "class Principal(webdriver.Chrome):\n",
    "\n",
    "    def __init__(self, driver_path=r\"chromedriver.exe\"):\n",
    "        self.driver_path = driver_path\n",
    "        os.environ['PATH'] += self.driver_path\n",
    "        super(Principal, self).__init__()\n",
    "        self.implicitly_wait(15)\n",
    "        self.maximize_window()\n",
    "        \n",
    "    def __exit__(self, exc_type, exc_value, trace):\n",
    "        print(\"Saindo.\")\n",
    "        self.implicitly_wait(5)\n",
    "        \n",
    "    def login(self):\n",
    "        self.get(\"https://sipseiteste.fiocruz.br/login.php?sigla_orgao_sistema=FIOCRUZ&sigla_sistema=SEI\")\n",
    "        usuario = self.find_element(By.ID, \"txtUsuario\")\n",
    "        usuario.send_keys(\"teste\")\n",
    "        senha = self.find_element(By.ID, \"pwdSenha\")\n",
    "        senha.send_keys(\"teste\")\n",
    "        botao = self.find_element(By.NAME, \"sbmLogin\")\n",
    "        botao.click()\n",
    "        \n",
    "    def pesquisa_sei(self):\n",
    "        inputy = self.find_element(By.CSS_SELECTOR, 'input[id=\"txtPesquisaRapida\"]')\n",
    "        inputy.send_keys(\"92.000114/2020-20\")\n",
    "        inputy.submit()\n",
    "    \n",
    "    def documento(self):\n",
    "        tela = self.find_element(By.ID, \"ifrVisualizacao\")\n",
    "        self.switch_to.frame(tela)\n",
    "        \n",
    "        botaoIncluir = self.find_element(By.XPATH, \"//*[@id='divArvoreAcoes']/a[1]/img\").click()\n",
    "        \n",
    "        externo = self.find_element(By.CSS_SELECTOR, \"tr[data-desc=' externo']\").click()\n",
    "        \n",
    "        tipo = self.find_element(By.ID, \"selSerie\").click()\n",
    "        anexo = self.find_element(By.CSS_SELECTOR, \"option[value='263']\").click()\n",
    "    \n",
    "        data = self.find_element(By.ID, \"txtDataElaboracao\")\n",
    "        data.send_keys(\"26/05/2022\")\n",
    "      \n",
    "        nato = self.find_element(By.ID, \"lblNato\").click()\n",
    "        publico = self.find_element(By.ID, \"lblPublico\").click()\n",
    "       \n",
    "        arquivo = \"C:\\\\Users\\\\bruno\\\\Desktop\\\\Aula 4.pdf\"\n",
    "        \n",
    "        Entrada = self.find_element(By.ID, \"filArquivo\").send_keys(arquivo)\n",
    "        time.sleep(2)\n",
    "        \n",
    "        botaoSalvar = self.find_element(By.ID, \"btnSalvar\").click() "
   ]
  },
  {
   "cell_type": "code",
   "execution_count": 6,
   "id": "a06c52b2",
   "metadata": {},
   "outputs": [],
   "source": [
    "bot = Principal()\n",
    "bot.login()\n",
    "bot.pesquisa_sei()\n",
    "bot.documento()"
   ]
  },
  {
   "cell_type": "code",
   "execution_count": null,
   "id": "8803f110",
   "metadata": {},
   "outputs": [],
   "source": []
  }
 ],
 "metadata": {
  "kernelspec": {
   "display_name": "Python 3 (ipykernel)",
   "language": "python",
   "name": "python3"
  },
  "language_info": {
   "codemirror_mode": {
    "name": "ipython",
    "version": 3
   },
   "file_extension": ".py",
   "mimetype": "text/x-python",
   "name": "python",
   "nbconvert_exporter": "python",
   "pygments_lexer": "ipython3",
   "version": "3.9.7"
  },
  "vscode": {
   "interpreter": {
    "hash": "46f2c9b0517c9100e135d608db60a909e217e6dfd5e49badcbff311080083465"
   }
  }
 },
 "nbformat": 4,
 "nbformat_minor": 5
}

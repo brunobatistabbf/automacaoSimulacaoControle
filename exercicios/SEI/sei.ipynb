{
 "cells": [
  {
   "cell_type": "code",
   "execution_count": 11,
   "id": "fc8f113e",
   "metadata": {},
   "outputs": [],
   "source": [
    "from selenium.webdriver.common.by import By\n",
    "from selenium.webdriver.support.ui import WebDriverWait\n",
    "from selenium.webdriver.support import expected_conditions as EC\n",
    "from selenium.webdriver import ActionChains\n",
    "from selenium.webdriver.common.action_chains import ActionChains\n",
    "from selenium.webdriver.common.keys import Keys\n",
    "from selenium import webdriver \n",
    "import time\n",
    "import os \n",
    "import tkinter\n",
    "import tkinter.messagebox"
   ]
  },
  {
   "cell_type": "code",
   "execution_count": 12,
   "id": "7cae2f0d",
   "metadata": {},
   "outputs": [],
   "source": [
    "class Principal(webdriver.Chrome):\n",
    "\n",
    "    def __init__(self, driver_path=r\"chromedriver.exe\"):\n",
    "        self.driver_path = driver_path\n",
    "        os.environ['PATH'] += self.driver_path\n",
    "        super(Principal, self).__init__()\n",
    "        self.implicitly_wait(15)\n",
    "        self.maximize_window()\n",
    "        \n",
    "    def __exit__(self, exc_type, exc_value, trace):\n",
    "        print(\"Saindo.\")\n",
    "        self.implicitly_wait(5)\n",
    "        \n",
    "    def login(self):\n",
    "        self.get(\"https://sipseiteste.fiocruz.br/login.php?sigla_orgao_sistema=FIOCRUZ&sigla_sistema=SEI\")\n",
    "        usuario = self.find_element(By.ID, \"txtUsuario\")\n",
    "        usuario.send_keys(\"teste\")\n",
    "        senha = self.find_element(By.ID, \"pwdSenha\")\n",
    "        senha.send_keys(\"teste\")\n",
    "        botao = self.find_element(By.NAME, \"sbmLogin\")\n",
    "        botao.click()\n",
    "        \n",
    "    def pesquisa_sei(self):\n",
    "        pesquisa = self.find_element(By.ID, \"txtPesquisaRapida\")\n",
    "        pesquisa.send_keys(\"92.000114/2020-20\")\n",
    "        pesquisa.send_keys(Keys.RETURN)\n",
    "        \n",
    "    def documento(self):\n",
    "        iframe = self.find_element(By.ID, \"ifrVisualizacao\")\n",
    "        self.switch_to.frame(iframe)\n",
    "        \n",
    "        input_documento = self.find_element(By.XPATH, \"//*[@id='divArvoreAcoes']/a[1]/img\")\n",
    "        input_documento.click()\n",
    "        \n",
    "        externo = self.find_element(By.CSS_SELECTOR, \"tr[data-desc=' externo']\")\n",
    "        externo.click()\n",
    "        \n",
    "        tipo = self.find_element(By.ID, \"selSerie\")\n",
    "        tipo.click()\n",
    "        \n",
    "        anexo = self.find_element(By.CSS_SELECTOR, \"option[value='263']\")\n",
    "        anexo.click()\n",
    "        \n",
    "        data_documento = self.find_element(By.ID, \"txtDataElaboracao\")\n",
    "        data_documento.send_keys(\"26/05/2022\")\n",
    "        \n",
    "        nato_digital = self.find_element(By.ID, \"lblNato\")\n",
    "        nato_digital.click()\n",
    "        \n",
    "        publico = self.find_element(By.ID, \"lblPublico\")\n",
    "        publico.click()\n",
    "        \n",
    "        arquivo = \"C:\\\\Users\\\\bruno\\\\Desktop\\\\peki code\\\\Regulamentação EJ.pdf\"\n",
    "        \n",
    "        input_arquivo = self.find_element(By.ID, \"filArquivo\").send_keys(arquivo)\n",
    "        \n",
    "        botao2 = self.find_element(By.ID, \"btnSalvar\").click()"
   ]
  },
  {
   "cell_type": "code",
   "execution_count": 13,
   "id": "a06c52b2",
   "metadata": {},
   "outputs": [
    {
     "data": {
      "text/plain": [
       "<bound method Principal.documento of <__main__.Principal (session=\"2c55deaec4dd159d40c783870d2da4bf\")>>"
      ]
     },
     "execution_count": 13,
     "metadata": {},
     "output_type": "execute_result"
    }
   ],
   "source": [
    "bot = Principal()\n",
    "bot.login()\n",
    "bot.pesquisa_sei\n",
    "bot.documento"
   ]
  },
  {
   "cell_type": "code",
   "execution_count": null,
   "id": "8803f110",
   "metadata": {},
   "outputs": [],
   "source": []
  }
 ],
 "metadata": {
  "kernelspec": {
   "display_name": "Python 3 (ipykernel)",
   "language": "python",
   "name": "python3"
  },
  "language_info": {
   "codemirror_mode": {
    "name": "ipython",
    "version": 3
   },
   "file_extension": ".py",
   "mimetype": "text/x-python",
   "name": "python",
   "nbconvert_exporter": "python",
   "pygments_lexer": "ipython3",
   "version": "3.9.7"
  }
 },
 "nbformat": 4,
 "nbformat_minor": 5
}

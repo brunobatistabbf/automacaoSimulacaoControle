{
 "cells": [
  {
   "cell_type": "code",
   "execution_count": 40,
   "id": "0531f7a5",
   "metadata": {},
   "outputs": [],
   "source": [
    "from selenium.webdriver.common.by import By\n",
    "from selenium.webdriver.support.ui import WebDriverWait\n",
    "from selenium.webdriver.support import expected_conditions as EC\n",
    "from selenium.webdriver import ActionChains\n",
    "from selenium.webdriver.common.action_chains import ActionChains\n",
    "from selenium.webdriver.common.keys import Keys\n",
    "from selenium import webdriver \n",
    "import time\n",
    "import os \n",
    "import tkinter\n",
    "import tkinter.messagebox"
   ]
  },
  {
   "cell_type": "code",
   "execution_count": 41,
   "id": "4bca5fdc",
   "metadata": {},
   "outputs": [],
   "source": [
    "#Acessar o menu de manipulação de processos após pesquisar um processo na Plataforma Sei.  \n",
    "\n",
    "class Principal(webdriver.Chrome):\n",
    "    \n",
    "    def __init__(self, driver_path=r\"chromedriver.exe\"):\n",
    "        self.driver_path = driver_path\n",
    "        os.environ['PATH'] += self.driver_path\n",
    "        super(Principal, self).__init__()\n",
    "        self.implicitly_wait(15)\n",
    "        self.maximize_window()\n",
    "        \n",
    "    def __exit__(self, exc_type, exc_value, trace):\n",
    "        print(\"Saindo.\")\n",
    "        self.implicitly_wait(5)\n",
    "        \n",
    "    def login(self):  #Acessa o site e faz o login usando usuario e senha teste\n",
    "        self.get(\"https://sipseiteste.fiocruz.br/login.php?sigla_orgao_sistema=FIOCRUZ&sigla_sistema=SEI\")\n",
    "        usuario = self.find_element(By.ID, \"txtUsuario\")  #seleciona o campo usuario\n",
    "        usuario.send_keys(\"teste\") #envia o usuario teste\n",
    "        senha = self.find_element(By.ID, \"pwdSenha\")  #seleciona o campo senha\n",
    "        senha.send_keys(\"teste\") #envia a senha teste\n",
    "        botao = self.find_element(By.NAME, \"sbmLogin\") #localiza o botão salvar na tela\n",
    "        botao.click()  #clica no botão\n",
    "        \n",
    "    def pesquisa_sei(self):\n",
    "        inputy = self.find_element(By.CSS_SELECTOR, 'input[id=\"txtPesquisaRapida\"]')#clica no campo de busca\n",
    "        inputy.send_keys(\"92.000130/2020-12\") #Passa o numero do processo\n",
    "        inputy.submit() #clica enter\n",
    "        \n",
    "    def documento(self):\n",
    "        tela = self.find_element(By.ID, \"ifrVisualizacao\") #localiza o frame da divisão da tela\n",
    "        self.switch_to.frame(tela) #seleciona o frame da divisão de tela \n",
    "        \n",
    "        print(\"1- Incluir Documento\")\n",
    "        print(\"2- Alterar Processo\")\n",
    "        print(\"3- Concluir Processo\")\n",
    "        \n",
    "        print(\"\\n\")\n",
    "        inputuser =  input(\"Insira uma opção de 1 a 3\")\n",
    "        \n",
    "    \n",
    "        if inputuser == \"1\":\n",
    "            botaoIncluir = self.find_element(By.XPATH, \"//*[@id='divArvoreAcoes']/a[1]/img\").click()\n",
    "            externo = self.find_element(By.CSS_SELECTOR, \"tr[data-desc=' externo']\").click()\n",
    "        \n",
    "            tipo = self.find_element(By.ID, \"selSerie\").click()\n",
    "            anexo = self.find_element(By.CSS_SELECTOR, \"option[value='263']\").click()\n",
    "    \n",
    "            data = self.find_element(By.ID, \"txtDataElaboracao\")\n",
    "            data.send_keys(\"26/05/2022\")\n",
    "      \n",
    "            nato = self.find_element(By.ID, \"lblNato\").click()\n",
    "            publico = self.find_element(By.ID, \"lblPublico\").click()\n",
    "       \n",
    "            arquivo = \"C:\\\\Users\\\\bruno\\\\Desktop\\\\Aula 4.pdf\"\n",
    "        \n",
    "            Entrada = self.find_element(By.ID, \"filArquivo\").send_keys(arquivo)\n",
    "            time.sleep(2)\n",
    "        \n",
    "            botaoSalvar = self.find_element(By.ID, \"btnSalvar\").click() \n",
    "        elif inputuser == \"2\":\n",
    "            botaoIncluir = self.find_element(By.XPATH, \"//*[@id='divArvoreAcoes']/a[3]/img\").click()\n",
    "            botaoSalvar = self.find_element(By.ID, \"btnSalvar\").click() \n",
    "        elif inputuser == \"3\":\n",
    "            botaoIncluir = self.find_element(By.XPATH, \"//*[@id='divArvoreAcoes']/a[17]/img\").click()\n",
    "            print(\"Processo Concluido\")\n",
    "        else:\n",
    "            print(\"Entrada Invalida\")\n",
    "        \n",
    "    "
   ]
  },
  {
   "cell_type": "code",
   "execution_count": 42,
   "id": "341e323e",
   "metadata": {},
   "outputs": [
    {
     "name": "stdout",
     "output_type": "stream",
     "text": [
      "1- Incluir Documento\n",
      "2- Alterar Processo\n",
      "3- Concluir Processo\n",
      "\n",
      "\n",
      "Insira uma opção de 1 a 33\n",
      "Processo Concluido\n"
     ]
    }
   ],
   "source": [
    "bot = Principal()\n",
    "bot.login()\n",
    "bot.pesquisa_sei()\n",
    "bot.documento()"
   ]
  },
  {
   "cell_type": "code",
   "execution_count": null,
   "id": "3050a96c",
   "metadata": {},
   "outputs": [],
   "source": []
  }
 ],
 "metadata": {
  "kernelspec": {
   "display_name": "Python 3 (ipykernel)",
   "language": "python",
   "name": "python3"
  },
  "language_info": {
   "codemirror_mode": {
    "name": "ipython",
    "version": 3
   },
   "file_extension": ".py",
   "mimetype": "text/x-python",
   "name": "python",
   "nbconvert_exporter": "python",
   "pygments_lexer": "ipython3",
   "version": "3.9.7"
  }
 },
 "nbformat": 4,
 "nbformat_minor": 5
}

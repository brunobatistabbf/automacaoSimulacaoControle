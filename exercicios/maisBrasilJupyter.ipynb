{
 "cells": [
  {
   "cell_type": "code",
   "execution_count": 28,
   "id": "807845c6",
   "metadata": {},
   "outputs": [],
   "source": [
    "from selenium import webdriver\n",
    "from selenium.webdriver.chrome.service import Service\n",
    "from selenium.webdriver.common.by import By\n",
    "from webdriver_manager.chrome import ChromeDriverManager\n",
    "import pandas as panda\n",
    "\n"
   ]
  },
  {
   "cell_type": "code",
   "execution_count": 31,
   "id": "41d2ddbb",
   "metadata": {},
   "outputs": [],
   "source": [
    "class Principal(webdriver.Chrome):\n",
    "    def __init__(self):\n",
    "        options = webdriver.ChromeOptions().add_experimental_option('excludeSwitches', ['enable-logging'])\n",
    "        service = Service(ChromeDriverManager().install())\n",
    "        super(Principal, self).__init__(service=service, options=options)\n",
    "        self.maximize_window()\n",
    "\n",
    "    def maisBrasil(self):\n",
    "        self.get(\"https://voluntarias.plataformamaisbrasil.gov.br/voluntarias/Principal/Principal.do?Usr=guest&Pwd=guest\")\n",
    "        self.implicitly_wait(5)\n",
    "        column = self.find_element(By.CLASS_NAME, \"col1\")\n",
    "        convenio = column.find_elements(By.TAG_NAME, \"div\")[3]\n",
    "\n",
    "        convenio.click()\n",
    "        consultaConvenios = self.find_element(By.TAG_NAME, \"li\")\n",
    "        consultaConvenios.click()\n",
    "\n",
    "    def consultaConvenio(self):\n",
    "        cnpj = panda.read_excel(\"./solicitacoes.xlsx\", index_col=0)\n",
    "        numero_convenio = cnpj.index.values\n",
    "        numero_convenios = []\n",
    "        encontrados = []\n",
    "        x = 0\n",
    "        \n",
    "        for numero_convenio in numero_convenios:\n",
    "            cont+= 1\n",
    "            nConvenio = self.find_element(By.NAME, \"numeroConvenio\")\n",
    "            submitConsulta = self.find_element(By.ID, \"form_submit\")\n",
    "            nConvenio.send_keys(str(numero_covenio))\n",
    "            submitConsulta.click()\n",
    "            table_line = self.find_element(By.ID, \"listaResultado\")\n",
    "            \n",
    "            table_line.find_elements(By.TAG_NAME, \"a\")[0].click()\n",
    "            proponente = self.find_element(By.CLASS_NAME, \"proponente\")\n",
    "            cnpj = proponente.find_elements(By.TAG_NAME, \"td\")[1].text.split(\" \")[1]\n",
    "            numero_convenios_encontrados.append(numero_convenio)\n",
    "            cnpj_encontrados.append(cnpj)\n",
    "            self.plataformaMaisBrasil()\n",
    "            \n",
    "            dados = {'numero': numero_convenios_encontrados, 'cnpj': cnpj_encontrados}\n",
    "            data_frame_resposta = panda.DataFrame(data = dados)\n",
    "            data_frame_resposta.to_excel(\"resposta.xlsx\", index=False)  \n",
    "\n",
    "        \n",
    "        \n"
   ]
  },
  {
   "cell_type": "code",
   "execution_count": 32,
   "id": "c2d736a0",
   "metadata": {},
   "outputs": [],
   "source": [
    "bot = Principal()\n",
    "bot.maisBrasil()\n",
    "bot.consultaConvenio()"
   ]
  },
  {
   "cell_type": "code",
   "execution_count": null,
   "id": "65f5002d",
   "metadata": {},
   "outputs": [],
   "source": []
  }
 ],
 "metadata": {
  "kernelspec": {
   "display_name": "Python 3 (ipykernel)",
   "language": "python",
   "name": "python3"
  },
  "language_info": {
   "codemirror_mode": {
    "name": "ipython",
    "version": 3
   },
   "file_extension": ".py",
   "mimetype": "text/x-python",
   "name": "python",
   "nbconvert_exporter": "python",
   "pygments_lexer": "ipython3",
   "version": "3.9.7"
  }
 },
 "nbformat": 4,
 "nbformat_minor": 5
}

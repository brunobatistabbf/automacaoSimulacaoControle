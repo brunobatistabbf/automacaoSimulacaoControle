{
 "cells": [
  {
   "cell_type": "code",
   "execution_count": 1,
   "id": "bea3f828",
   "metadata": {},
   "outputs": [],
   "source": [
    "from selenium.webdriver.common.by import By\n",
    "from selenium.webdriver.support.ui import WebDriverWait\n",
    "from selenium.webdriver.support import expected_conditions as EC\n",
    "from selenium.webdriver import ActionChains\n",
    "from selenium.webdriver.common.action_chains import ActionChains\n",
    "from selenium.webdriver.common.keys import Keys\n",
    "from selenium import webdriver \n",
    "import time\n",
    "import os \n",
    "import tkinter\n",
    "import tkinter.messagebox"
   ]
  },
  {
   "cell_type": "code",
   "execution_count": null,
   "id": "cc766340",
   "metadata": {},
   "outputs": [],
   "source": [
    "class Principal(webdriver.Chrome):\n",
    "    def __init__(self, driver_path=r\"chromedriver.exe\"):\n",
    "        self.driver_path = driver_path\n",
    "        os.environ['PATH'] += self.driver_path\n",
    "        super(Principal, self).__init__()\n",
    "        self.implicitly_wait(15)\n",
    "        self.maximize_window()"
   ]
  }
 ],
 "metadata": {
  "kernelspec": {
   "display_name": "Python 3 (ipykernel)",
   "language": "python",
   "name": "python3"
  },
  "language_info": {
   "codemirror_mode": {
    "name": "ipython",
    "version": 3
   },
   "file_extension": ".py",
   "mimetype": "text/x-python",
   "name": "python",
   "nbconvert_exporter": "python",
   "pygments_lexer": "ipython3",
   "version": "3.9.7"
  }
 },
 "nbformat": 4,
 "nbformat_minor": 5
}
